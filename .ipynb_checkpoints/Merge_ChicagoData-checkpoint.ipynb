{
 "cells": [
  {
   "cell_type": "markdown",
   "metadata": {},
   "source": [
    "# Merge the data\n",
    "Merge the data from the individual runners into a single data frame"
   ]
  },
  {
   "cell_type": "code",
   "execution_count": 1,
   "metadata": {
    "collapsed": true
   },
   "outputs": [],
   "source": [
    "#Get the csv data for the runners\n",
    "import pandas as pd\n",
    "import numpy as np\n",
    "\n",
    "#All runners basic data\n",
    "data = pd.read_csv(\"Data/Runner_Data.csv\") #Merged data from the website "
   ]
  },
  {
   "cell_type": "code",
   "execution_count": 2,
   "metadata": {
    "collapsed": false
   },
   "outputs": [
    {
     "data": {
      "text/html": [
       "<div>\n",
       "<table border=\"1\" class=\"dataframe\">\n",
       "  <thead>\n",
       "    <tr style=\"text-align: right;\">\n",
       "      <th></th>\n",
       "      <th>Unnamed: 0</th>\n",
       "      <th>Place Overall</th>\n",
       "      <th>Place Gender</th>\n",
       "      <th>Place Division</th>\n",
       "      <th>Name (CTZ)</th>\n",
       "      <th>Link</th>\n",
       "      <th>City, State</th>\n",
       "      <th>BIB</th>\n",
       "      <th>Division</th>\n",
       "      <th>Age</th>\n",
       "      <th>HALF</th>\n",
       "      <th>Finish</th>\n",
       "      <th>Gender</th>\n",
       "    </tr>\n",
       "  </thead>\n",
       "  <tbody>\n",
       "    <tr>\n",
       "      <th>0</th>\n",
       "      <td>0</td>\n",
       "      <td>1</td>\n",
       "      <td>1</td>\n",
       "      <td>1.0</td>\n",
       "      <td>» Kirui, Abel (KEN)</td>\n",
       "      <td>?content=detail&amp;fpid=list&amp;pid=list&amp;idp=9999991...</td>\n",
       "      <td>NaN</td>\n",
       "      <td>3</td>\n",
       "      <td>30-34</td>\n",
       "      <td>34.0</td>\n",
       "      <td>01:06:51</td>\n",
       "      <td>02:11:23</td>\n",
       "      <td>Male</td>\n",
       "    </tr>\n",
       "  </tbody>\n",
       "</table>\n",
       "</div>"
      ],
      "text/plain": [
       "   Unnamed: 0  Place Overall  Place Gender  Place Division  \\\n",
       "0           0              1             1             1.0   \n",
       "\n",
       "            Name (CTZ)                                               Link  \\\n",
       "0  » Kirui, Abel (KEN)  ?content=detail&fpid=list&pid=list&idp=9999991...   \n",
       "\n",
       "  City, State  BIB Division   Age      HALF    Finish Gender  \n",
       "0         NaN    3    30-34  34.0  01:06:51  02:11:23   Male  "
      ]
     },
     "execution_count": 2,
     "metadata": {},
     "output_type": "execute_result"
    }
   ],
   "source": [
    "data.head(1)"
   ]
  },
  {
   "cell_type": "code",
   "execution_count": 18,
   "metadata": {
    "collapsed": false
   },
   "outputs": [
    {
     "data": {
      "text/html": [
       "<div>\n",
       "<table border=\"1\" class=\"dataframe\">\n",
       "  <thead>\n",
       "    <tr style=\"text-align: right;\">\n",
       "      <th></th>\n",
       "      <th>Unnamed: 0</th>\n",
       "      <th>start_time</th>\n",
       "      <th>t05k</th>\n",
       "      <th>t10k</th>\n",
       "      <th>t15k</th>\n",
       "      <th>t20k</th>\n",
       "      <th>tHalf</th>\n",
       "      <th>t25k</th>\n",
       "      <th>t30k</th>\n",
       "      <th>t35k</th>\n",
       "      <th>...</th>\n",
       "      <th>kmh05</th>\n",
       "      <th>kmh10</th>\n",
       "      <th>kmh15</th>\n",
       "      <th>kmh20</th>\n",
       "      <th>kmhHalf</th>\n",
       "      <th>kmh25</th>\n",
       "      <th>kmh30</th>\n",
       "      <th>kmh35</th>\n",
       "      <th>kmh40</th>\n",
       "      <th>kmhFinal</th>\n",
       "    </tr>\n",
       "  </thead>\n",
       "  <tbody>\n",
       "    <tr>\n",
       "      <th>0</th>\n",
       "      <td>0</td>\n",
       "      <td>07:30:03</td>\n",
       "      <td>00:16:07</td>\n",
       "      <td>00:32:04</td>\n",
       "      <td>00:47:43</td>\n",
       "      <td>01:03:08</td>\n",
       "      <td>01:06:51</td>\n",
       "      <td>01:18:44</td>\n",
       "      <td>01:34:57</td>\n",
       "      <td>01:50:11</td>\n",
       "      <td>...</td>\n",
       "      <td>11.58</td>\n",
       "      <td>11.69</td>\n",
       "      <td>11.92</td>\n",
       "      <td>12.1</td>\n",
       "      <td>11.0</td>\n",
       "      <td>12.25</td>\n",
       "      <td>11.49</td>\n",
       "      <td>12.25</td>\n",
       "      <td>12.64</td>\n",
       "      <td>12.69</td>\n",
       "    </tr>\n",
       "  </tbody>\n",
       "</table>\n",
       "<p>1 rows × 32 columns</p>\n",
       "</div>"
      ],
      "text/plain": [
       "   Unnamed: 0 start_time      t05k      t10k      t15k      t20k     tHalf  \\\n",
       "0           0   07:30:03  00:16:07  00:32:04  00:47:43  01:03:08  01:06:51   \n",
       "\n",
       "       t25k      t30k      t35k   ...     kmh05  kmh10  kmh15 kmh20 kmhHalf  \\\n",
       "0  01:18:44  01:34:57  01:50:11   ...     11.58  11.69  11.92  12.1    11.0   \n",
       "\n",
       "   kmh25  kmh30  kmh35  kmh40 kmhFinal  \n",
       "0  12.25  11.49  12.25  12.64    12.69  \n",
       "\n",
       "[1 rows x 32 columns]"
      ]
     },
     "execution_count": 18,
     "metadata": {},
     "output_type": "execute_result"
    }
   ],
   "source": [
    "data_path = 'Data/RunnerData/'\n",
    "run_file = data_path + 'RunnerBIB_%05d.csv' %data.BIB[0]\n",
    "rdata = pd.read_csv(run_file)\n",
    "rdata.head()\n",
    "#remove the unnamed element\n",
    "\n",
    "#for each element, add them to the data dataframe."
   ]
  },
  {
   "cell_type": "code",
   "execution_count": 6,
   "metadata": {
    "collapsed": false
   },
   "outputs": [
    {
     "data": {
      "text/plain": [
       "0    0\n",
       "Name: Unnamed: 0, dtype: int64"
      ]
     },
     "execution_count": 6,
     "metadata": {},
     "output_type": "execute_result"
    }
   ],
   "source": [
    "#delete the first column\n",
    "rdata.head(1)\n",
    "rdata.pop('Unnamed: 0')"
   ]
  },
  {
   "cell_type": "code",
   "execution_count": 14,
   "metadata": {
    "collapsed": false
   },
   "outputs": [],
   "source": [
    "# add each element to the original data\n",
    "for elem in rdata:\n",
    "    data[elem] = ''"
   ]
  },
  {
   "cell_type": "code",
   "execution_count": 19,
   "metadata": {
    "collapsed": false
   },
   "outputs": [
    {
     "name": "stderr",
     "output_type": "stream",
     "text": [
      "/Users/angelmanzur/anaconda/lib/python2.7/site-packages/ipykernel/__main__.py:16: SettingWithCopyWarning: \n",
      "A value is trying to be set on a copy of a slice from a DataFrame\n",
      "\n",
      "See the caveats in the documentation: http://pandas.pydata.org/pandas-docs/stable/indexing.html#indexing-view-versus-copy\n"
     ]
    },
    {
     "name": "stdout",
     "output_type": "stream",
     "text": [
      "0 \t Data/RunnerData/RunnerBIB_00003.csv\n",
      "1 \t Data/RunnerData/RunnerBIB_00003.csv\n",
      "2 \t Data/RunnerData/RunnerBIB_00003.csv\n",
      "3 \t Data/RunnerData/RunnerBIB_00003.csv\n",
      "4 \t Data/RunnerData/RunnerBIB_00003.csv\n",
      "Done scanning through files\n"
     ]
    }
   ],
   "source": [
    "#loop over all runners, \n",
    "#look at the BIB number, and load the dataframe for that BIB to rdata\n",
    "#pop the unnamed\n",
    "#add the values from rdata to data for that entry\n",
    "#after looping, save the data to csv and exit. BOOM\n",
    "nrunners = len(data.BIB)\n",
    "data_path = 'Data/RunnerData/'\n",
    "for nf in range(0,5):\n",
    "    #read the data \n",
    "    rtemp_file = data_path + 'RunnerBIB_%05d.csv' %data.BIB[nf]\n",
    "    rdata = pd.read_csv(rtemp_file)\n",
    "    #remove the first element\n",
    "    rdata.pop('Unnamed: 0')\n",
    "    # add the info to data dataframe\n",
    "    for elem in rdata:\n",
    "        data[elem][nf] = rdata[elem][0]\n",
    "    if nf%mod ==0:\n",
    "        print '%d \\t %s' %(nf,rtemp_file)\n",
    "print 'Done scanning through files'"
   ]
  },
  {
   "cell_type": "code",
   "execution_count": 17,
   "metadata": {
    "collapsed": false
   },
   "outputs": [
    {
     "data": {
      "text/html": [
       "<div>\n",
       "<table border=\"1\" class=\"dataframe\">\n",
       "  <thead>\n",
       "    <tr style=\"text-align: right;\">\n",
       "      <th></th>\n",
       "      <th>Unnamed: 0</th>\n",
       "      <th>Place Overall</th>\n",
       "      <th>Place Gender</th>\n",
       "      <th>Place Division</th>\n",
       "      <th>Name (CTZ)</th>\n",
       "      <th>Link</th>\n",
       "      <th>City, State</th>\n",
       "      <th>BIB</th>\n",
       "      <th>Division</th>\n",
       "      <th>Age</th>\n",
       "      <th>...</th>\n",
       "      <th>kmh05</th>\n",
       "      <th>kmh10</th>\n",
       "      <th>kmh15</th>\n",
       "      <th>kmh20</th>\n",
       "      <th>kmhHalf</th>\n",
       "      <th>kmh25</th>\n",
       "      <th>kmh30</th>\n",
       "      <th>kmh35</th>\n",
       "      <th>kmh40</th>\n",
       "      <th>kmhFinal</th>\n",
       "    </tr>\n",
       "  </thead>\n",
       "  <tbody>\n",
       "    <tr>\n",
       "      <th>0</th>\n",
       "      <td>0</td>\n",
       "      <td>1</td>\n",
       "      <td>1</td>\n",
       "      <td>1.0</td>\n",
       "      <td>» Kirui, Abel (KEN)</td>\n",
       "      <td>?content=detail&amp;fpid=list&amp;pid=list&amp;idp=9999991...</td>\n",
       "      <td>NaN</td>\n",
       "      <td>3</td>\n",
       "      <td>30-34</td>\n",
       "      <td>34.0</td>\n",
       "      <td>...</td>\n",
       "      <td>11.58</td>\n",
       "      <td>11.69</td>\n",
       "      <td>11.92</td>\n",
       "      <td>12.1</td>\n",
       "      <td>11</td>\n",
       "      <td>12.25</td>\n",
       "      <td>11.49</td>\n",
       "      <td>12.25</td>\n",
       "      <td>12.64</td>\n",
       "      <td>12.69</td>\n",
       "    </tr>\n",
       "    <tr>\n",
       "      <th>1</th>\n",
       "      <td>1</td>\n",
       "      <td>2</td>\n",
       "      <td>2</td>\n",
       "      <td>1.0</td>\n",
       "      <td>» Chumba, Dickson (KEN)</td>\n",
       "      <td>?content=detail&amp;fpid=list&amp;pid=list&amp;idp=9999991...</td>\n",
       "      <td>NaN</td>\n",
       "      <td>1</td>\n",
       "      <td>25-29</td>\n",
       "      <td>29.0</td>\n",
       "      <td>...</td>\n",
       "      <td>11.57</td>\n",
       "      <td>11.69</td>\n",
       "      <td>11.91</td>\n",
       "      <td>12.09</td>\n",
       "      <td>11.03</td>\n",
       "      <td>12.24</td>\n",
       "      <td>11.49</td>\n",
       "      <td>12.25</td>\n",
       "      <td>12.63</td>\n",
       "      <td>12.59</td>\n",
       "    </tr>\n",
       "    <tr>\n",
       "      <th>2</th>\n",
       "      <td>2</td>\n",
       "      <td>3</td>\n",
       "      <td>3</td>\n",
       "      <td>1.0</td>\n",
       "      <td>» Kipketer, Gideon (KEN)</td>\n",
       "      <td>?content=detail&amp;fpid=list&amp;pid=list&amp;idp=9999991...</td>\n",
       "      <td>NaN</td>\n",
       "      <td>7</td>\n",
       "      <td>20-24</td>\n",
       "      <td>23.0</td>\n",
       "      <td>...</td>\n",
       "      <td></td>\n",
       "      <td></td>\n",
       "      <td></td>\n",
       "      <td></td>\n",
       "      <td></td>\n",
       "      <td></td>\n",
       "      <td></td>\n",
       "      <td></td>\n",
       "      <td></td>\n",
       "      <td></td>\n",
       "    </tr>\n",
       "    <tr>\n",
       "      <th>3</th>\n",
       "      <td>3</td>\n",
       "      <td>4</td>\n",
       "      <td>4</td>\n",
       "      <td>2.0</td>\n",
       "      <td>» Lonyangata, Paul (KEN)</td>\n",
       "      <td>?content=detail&amp;fpid=list&amp;pid=list&amp;idp=0000001...</td>\n",
       "      <td>NaN</td>\n",
       "      <td>6</td>\n",
       "      <td>20-24</td>\n",
       "      <td>24.0</td>\n",
       "      <td>...</td>\n",
       "      <td></td>\n",
       "      <td></td>\n",
       "      <td></td>\n",
       "      <td></td>\n",
       "      <td></td>\n",
       "      <td></td>\n",
       "      <td></td>\n",
       "      <td></td>\n",
       "      <td></td>\n",
       "      <td></td>\n",
       "    </tr>\n",
       "    <tr>\n",
       "      <th>4</th>\n",
       "      <td>4</td>\n",
       "      <td>5</td>\n",
       "      <td>5</td>\n",
       "      <td>2.0</td>\n",
       "      <td>» Sambu, Stephen (KEN)</td>\n",
       "      <td>?content=detail&amp;fpid=list&amp;pid=list&amp;idp=9999991...</td>\n",
       "      <td>NaN</td>\n",
       "      <td>8</td>\n",
       "      <td>25-29</td>\n",
       "      <td>28.0</td>\n",
       "      <td>...</td>\n",
       "      <td></td>\n",
       "      <td></td>\n",
       "      <td></td>\n",
       "      <td></td>\n",
       "      <td></td>\n",
       "      <td></td>\n",
       "      <td></td>\n",
       "      <td></td>\n",
       "      <td></td>\n",
       "      <td></td>\n",
       "    </tr>\n",
       "  </tbody>\n",
       "</table>\n",
       "<p>5 rows × 44 columns</p>\n",
       "</div>"
      ],
      "text/plain": [
       "   Unnamed: 0  Place Overall  Place Gender  Place Division  \\\n",
       "0           0              1             1             1.0   \n",
       "1           1              2             2             1.0   \n",
       "2           2              3             3             1.0   \n",
       "3           3              4             4             2.0   \n",
       "4           4              5             5             2.0   \n",
       "\n",
       "                 Name (CTZ)  \\\n",
       "0       » Kirui, Abel (KEN)   \n",
       "1   » Chumba, Dickson (KEN)   \n",
       "2  » Kipketer, Gideon (KEN)   \n",
       "3  » Lonyangata, Paul (KEN)   \n",
       "4    » Sambu, Stephen (KEN)   \n",
       "\n",
       "                                                Link City, State  BIB  \\\n",
       "0  ?content=detail&fpid=list&pid=list&idp=9999991...         NaN    3   \n",
       "1  ?content=detail&fpid=list&pid=list&idp=9999991...         NaN    1   \n",
       "2  ?content=detail&fpid=list&pid=list&idp=9999991...         NaN    7   \n",
       "3  ?content=detail&fpid=list&pid=list&idp=0000001...         NaN    6   \n",
       "4  ?content=detail&fpid=list&pid=list&idp=9999991...         NaN    8   \n",
       "\n",
       "  Division   Age   ...     kmh05  kmh10  kmh15  kmh20 kmhHalf  kmh25  kmh30  \\\n",
       "0    30-34  34.0   ...     11.58  11.69  11.92   12.1      11  12.25  11.49   \n",
       "1    25-29  29.0   ...     11.57  11.69  11.91  12.09   11.03  12.24  11.49   \n",
       "2    20-24  23.0   ...                                                        \n",
       "3    20-24  24.0   ...                                                        \n",
       "4    25-29  28.0   ...                                                        \n",
       "\n",
       "   kmh35  kmh40 kmhFinal  \n",
       "0  12.25  12.64    12.69  \n",
       "1  12.25  12.63    12.59  \n",
       "2                         \n",
       "3                         \n",
       "4                         \n",
       "\n",
       "[5 rows x 44 columns]"
      ]
     },
     "execution_count": 17,
     "metadata": {},
     "output_type": "execute_result"
    }
   ],
   "source": [
    "data.head()"
   ]
  },
  {
   "cell_type": "code",
   "execution_count": null,
   "metadata": {
    "collapsed": true
   },
   "outputs": [],
   "source": []
  }
 ],
 "metadata": {
  "anaconda-cloud": {},
  "kernelspec": {
   "display_name": "Python [Root]",
   "language": "python",
   "name": "Python [Root]"
  },
  "language_info": {
   "codemirror_mode": {
    "name": "ipython",
    "version": 2
   },
   "file_extension": ".py",
   "mimetype": "text/x-python",
   "name": "python",
   "nbconvert_exporter": "python",
   "pygments_lexer": "ipython2",
   "version": "2.7.12"
  }
 },
 "nbformat": 4,
 "nbformat_minor": 0
}
